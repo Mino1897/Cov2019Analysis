{
 "cells": [
  {
   "cell_type": "markdown",
   "metadata": {},
   "source": [
    "# 2019新型冠状病毒（COVID-19/2019-nCoV）疫情分析\n",
    "\n",
    "\n",
    "\n",
    "![](images/banner.jpg)"
   ]
  },
  {
   "cell_type": "markdown",
   "metadata": {},
   "source": [
    "本项目数据来源于丁香园。本项目主要目的是**通过对疫情历史数据的分析研究，以更好的了解疫情与疫情的发展态势，为抗击疫情之决策提供数据支持。**\n",
    "\n",
    "## 一. 提出问题\n",
    "\n",
    "从全国范围，你所在省市，国外疫情等三个方面主要研究以下几个问题：\n",
    "\n",
    "（一）全国累计确诊/疑似/治愈/死亡情况随时间变化趋势如何？\n",
    "\n",
    "（二）全国新增确诊/疑似/治愈/死亡情况随时间变化趋势如何？\n",
    "\n",
    "（三）全国新增境外输入随时间变化趋势如何？\n",
    "\n",
    "（四）你所在的省市情况如何？\n",
    "\n",
    "（五）国外疫情态势如何？\n",
    "\n",
    "（六）结合你的分析结果，对个人和社会在抗击疫情方面有何建议？\n",
    "\n",
    "\n",
    "## 二. 理解数据\n",
    "\n",
    "原始数据集：AreaInfo.csv，导入相关包及读取数据："
   ]
  },
  {
   "cell_type": "code",
   "execution_count": null,
   "metadata": {
    "scrolled": false
   },
   "outputs": [],
   "source": []
  },
  {
   "cell_type": "markdown",
   "metadata": {},
   "source": [
    "**查看与统计数据，以对数据有一个大致了解**"
   ]
  },
  {
   "cell_type": "code",
   "execution_count": null,
   "metadata": {},
   "outputs": [],
   "source": []
  },
  {
   "cell_type": "markdown",
   "metadata": {},
   "source": [
    "## 三. 数据清洗\n",
    "\n",
    "### （一）基本数据处理\n",
    "\n",
    "数据清洗主要包括：**选取子集，缺失数据处理、数据格式转换、异常值数据处理**等。\n",
    "\n",
    "#### 国内疫情数据选取（最终选取的数据命名为china）\n",
    "\n",
    "1. 选取国内疫情数据\n",
    "\n",
    "2. 对于更新时间(updateTime)列，需将其转换为日期类型并提取出年-月-日，并查看处理结果。(提示：dt.date)\n",
    "\n",
    "3. 因数据每天按小时更新，一天之内有很多重复数据，请去重并只保留一天之内最新的数据。\n",
    "\n",
    "> 提示：df.drop_duplicates(subset=['provinceName', 'updateTime'], keep='first', inplace=False)\n",
    "\n",
    "> 其中df是你选择的国内疫情数据的DataFrame"
   ]
  },
  {
   "cell_type": "code",
   "execution_count": null,
   "metadata": {},
   "outputs": [],
   "source": []
  },
  {
   "cell_type": "markdown",
   "metadata": {},
   "source": [
    "查看数据信息，是否有缺失数据/数据类型是否正确。\n",
    "\n",
    "提示：若不会处理缺失值，可以将其舍弃"
   ]
  },
  {
   "cell_type": "code",
   "execution_count": null,
   "metadata": {},
   "outputs": [],
   "source": []
  },
  {
   "cell_type": "markdown",
   "metadata": {},
   "source": [
    "#### 你所在省市疫情数据选取（最终选取的数据命名为myhome）\n",
    "\n",
    "此步也可在后面用到的再做"
   ]
  },
  {
   "cell_type": "code",
   "execution_count": null,
   "metadata": {
    "scrolled": true
   },
   "outputs": [],
   "source": []
  },
  {
   "cell_type": "markdown",
   "metadata": {},
   "source": [
    "#### 国外疫情数据选取（最终选取的数据命名为world）\n",
    "\n",
    "此步也可在后面用到的再做"
   ]
  },
  {
   "cell_type": "code",
   "execution_count": null,
   "metadata": {
    "scrolled": false
   },
   "outputs": [],
   "source": []
  },
  {
   "cell_type": "markdown",
   "metadata": {},
   "source": [
    "**数据透视与分析**"
   ]
  },
  {
   "cell_type": "code",
   "execution_count": null,
   "metadata": {},
   "outputs": [],
   "source": []
  },
  {
   "cell_type": "markdown",
   "metadata": {},
   "source": [
    "## 四. 数据分析及可视化\n",
    "\n",
    "在进行数据分析及可视化时，依据每个问题选取所需变量并新建DataFrame再进行分析和可视化展示，这样数据不易乱且条理更清晰。\n",
    "\n",
    "### 基础分析\n",
    "\n",
    "基础分析，**只允许使用numpy、pandas和matplotlib库**。\n",
    "\n",
    "可以在一张图上多个坐标系展示也可以在多张图上展示\n",
    "\n",
    "请根据分析目的选择图形的类型(折线图、饼图、直方图和散点图等等)，实在没有主意可以到百度疫情地图或其他疫情分析的站点激发激发灵感。\n",
    "\n",
    "#### （一）全国累计确诊/疑似/治愈/死亡情况随时间变化趋势如何？"
   ]
  },
  {
   "cell_type": "code",
   "execution_count": null,
   "metadata": {},
   "outputs": [],
   "source": []
  },
  {
   "cell_type": "markdown",
   "metadata": {},
   "source": [
    "#### （二）全国新增确诊/疑似/治愈/死亡情况随时间变化趋势如何？"
   ]
  },
  {
   "cell_type": "code",
   "execution_count": null,
   "metadata": {},
   "outputs": [],
   "source": []
  },
  {
   "cell_type": "markdown",
   "metadata": {},
   "source": [
    "#### （三）全国新增境外输入随时间变化趋势如何？"
   ]
  },
  {
   "cell_type": "code",
   "execution_count": null,
   "metadata": {},
   "outputs": [],
   "source": []
  },
  {
   "cell_type": "markdown",
   "metadata": {},
   "source": [
    "#### （四）你所在的省市情况如何？"
   ]
  },
  {
   "cell_type": "code",
   "execution_count": null,
   "metadata": {},
   "outputs": [],
   "source": []
  },
  {
   "cell_type": "markdown",
   "metadata": {},
   "source": [
    "#### （五）国外疫情态势如何？"
   ]
  },
  {
   "cell_type": "code",
   "execution_count": null,
   "metadata": {},
   "outputs": [],
   "source": []
  },
  {
   "cell_type": "markdown",
   "metadata": {},
   "source": [
    "#### （六）结合你的分析结果，对个人和社会在抗击疫情方面有何建议？"
   ]
  },
  {
   "cell_type": "code",
   "execution_count": null,
   "metadata": {},
   "outputs": [],
   "source": []
  },
  {
   "cell_type": "markdown",
   "metadata": {},
   "source": [
    "### 附加分析\n",
    "\n",
    "附加分析，所使用的库不限，比如可以使用seaborn、pyecharts等库。\n"
   ]
  },
  {
   "cell_type": "code",
   "execution_count": null,
   "metadata": {},
   "outputs": [],
   "source": []
  }
 ],
 "metadata": {
  "kernelspec": {
   "display_name": "Python 3",
   "language": "python",
   "name": "python3"
  },
  "language_info": {
   "codemirror_mode": {
    "name": "ipython",
    "version": 3
   },
   "file_extension": ".py",
   "mimetype": "text/x-python",
   "name": "python",
   "nbconvert_exporter": "python",
   "pygments_lexer": "ipython3",
   "version": "3.6.10"
  }
 },
 "nbformat": 4,
 "nbformat_minor": 2
}
